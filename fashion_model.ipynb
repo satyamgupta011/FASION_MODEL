{
  "cells": [
    {
      "cell_type": "markdown",
      "metadata": {
        "id": "view-in-github",
        "colab_type": "text"
      },
      "source": [
        "<a href=\"https://colab.research.google.com/github/satyamgupta011/FASION_MODEL/blob/main/fashion_model.ipynb\" target=\"_parent\"><img src=\"https://colab.research.google.com/assets/colab-badge.svg\" alt=\"Open In Colab\"/></a>"
      ]
    },
    {
      "cell_type": "code",
      "execution_count": null,
      "metadata": {
        "colab": {
          "base_uri": "https://localhost:8080/",
          "height": 642
        },
        "id": "D7ZmcASxVycO",
        "outputId": "c5b3a110-ef1b-4387-8172-4b95457eb40f"
      },
      "outputs": [
        {
          "name": "stdout",
          "output_type": "stream",
          "text": [
            "Epoch 1/10\n",
            "750/750 [==============================] - 100s 132ms/step - loss: 0.4727 - accuracy: 0.8277 - val_loss: 0.3234 - val_accuracy: 0.8832\n",
            "Epoch 2/10\n",
            "750/750 [==============================] - 97s 129ms/step - loss: 0.2894 - accuracy: 0.8935 - val_loss: 0.2994 - val_accuracy: 0.8906\n",
            "Epoch 3/10\n",
            "750/750 [==============================] - 100s 133ms/step - loss: 0.2438 - accuracy: 0.9098 - val_loss: 0.2532 - val_accuracy: 0.9082\n",
            "Epoch 4/10\n",
            "750/750 [==============================] - 96s 128ms/step - loss: 0.2096 - accuracy: 0.9228 - val_loss: 0.2959 - val_accuracy: 0.8974\n",
            "Epoch 5/10\n",
            "750/750 [==============================] - 98s 131ms/step - loss: 0.1839 - accuracy: 0.9312 - val_loss: 0.2361 - val_accuracy: 0.9147\n",
            "Epoch 6/10\n",
            "750/750 [==============================] - 97s 129ms/step - loss: 0.1619 - accuracy: 0.9400 - val_loss: 0.2186 - val_accuracy: 0.9209\n",
            "Epoch 7/10\n",
            "750/750 [==============================] - 96s 128ms/step - loss: 0.1405 - accuracy: 0.9463 - val_loss: 0.2355 - val_accuracy: 0.9177\n",
            "Epoch 8/10\n",
            "750/750 [==============================] - 98s 130ms/step - loss: 0.1198 - accuracy: 0.9551 - val_loss: 0.2428 - val_accuracy: 0.9168\n",
            "Epoch 9/10\n",
            "750/750 [==============================] - 101s 134ms/step - loss: 0.1009 - accuracy: 0.9619 - val_loss: 0.2534 - val_accuracy: 0.9208\n",
            "Epoch 10/10\n",
            "750/750 [==============================] - 101s 135ms/step - loss: 0.0852 - accuracy: 0.9681 - val_loss: 0.2896 - val_accuracy: 0.9182\n",
            "Test loss: 0.30253154039382935\n",
            "Test accuracy: 0.9154000282287598\n",
            "1/1 [==============================] - 0s 95ms/step\n",
            "313/313 [==============================] - 7s 23ms/step\n"
          ]
        },
        {
          "data": {
            "image/png": "[encoded data removed]",
            "text/plain": [
              "<Figure size 1500x300 with 6 Axes>"
            ]
          },
          "metadata": {},
          "output_type": "display_data"
        }
      ],
      "source": [
        "import numpy as np\n",
        "import matplotlib.pyplot as plt\n",
        "from keras.datasets import fashion_mnist\n",
        "from keras.utils import to_categorical\n",
        "from sklearn.model_selection import train_test_split\n",
        "import keras\n",
        "from keras.models import Sequential\n",
        "from keras.layers import Dense, Dropout, Flatten, Conv2D, MaxPooling2D\n",
        "from tensorflow.keras.preprocessing import image\n",
        "\n",
        "# Load and preprocess the Fashion MNIST dataset\n",
        "(train_X, train_Y), (test_X, test_Y) = fashion_mnist.load_data()\n",
        "\n",
        "# Reshape and normalize the data\n",
        "train_X = train_X.reshape(-1, 28, 28, 1).astype('float32') / 255.\n",
        "test_X = test_X.reshape(-1, 28, 28, 1).astype('float32') / 255.\n",
        "\n",
        "# One-hot encode the labels\n",
        "train_Y_one_hot = to_categorical(train_Y)\n",
        "test_Y_one_hot = to_categorical(test_Y)\n",
        "\n",
        "# Split the data into training and validation sets\n",
        "train_X, valid_X, train_label, valid_label = train_test_split(\n",
        "    train_X, train_Y_one_hot, test_size=0.2, random_state=13)\n",
        "\n",
        "# Model parameters\n",
        "batch_size = 64\n",
        "epochs = 10\n",
        "num_classes = 10\n",
        "\n",
        "# Define the CNN model without dropout\n",
        "fashion_model = Sequential()\n",
        "fashion_model.add(Conv2D(32, kernel_size=(3, 3), activation='linear', input_shape=(28, 28, 1), padding='same'))\n",
        "fashion_model.add(keras.layers.LeakyReLU(alpha=0.1))\n",
        "fashion_model.add(MaxPooling2D((2, 2), padding='same'))\n",
        "fashion_model.add(Conv2D(64, (3, 3), activation='linear', padding='same'))\n",
        "fashion_model.add(keras.layers.LeakyReLU(alpha=0.1))\n",
        "fashion_model.add(MaxPooling2D(pool_size=(2, 2), padding='same'))\n",
        "fashion_model.add(Conv2D(128, (3, 3), activation='linear', padding='same'))\n",
        "fashion_model.add(keras.layers.LeakyReLU(alpha=0.1))\n",
        "fashion_model.add(MaxPooling2D(pool_size=(2, 2), padding='same'))\n",
        "fashion_model.add(Flatten())\n",
        "fashion_model.add(Dense(128, activation='linear'))\n",
        "fashion_model.add(keras.layers.LeakyReLU(alpha=0.1))\n",
        "fashion_model.add(Dense(num_classes, activation='softmax'))\n",
        "\n",
        "# Compile the model\n",
        "fashion_model.compile(loss=keras.losses.categorical_crossentropy, optimizer=keras.optimizers.Adam(), metrics=['accuracy'])\n",
        "\n",
        "# Train the model\n",
        "fashion_train = fashion_model.fit(train_X, train_label, batch_size=batch_size, epochs=epochs, verbose=1, validation_data=(valid_X, valid_label))\n",
        "\n",
        "# Evaluate the model on the test set\n",
        "test_eval = fashion_model.evaluate(test_X, test_Y_one_hot, verbose=0)\n",
        "print('Test loss:', test_eval[0])\n",
        "print('Test accuracy:', test_eval[1])\n",
        "\n",
        "# Define class labels based on Fashion MNIST classes\n",
        "class_labels = [\"T-shirt/top\", \"Trouser\", \"Pullover\", \"Dress\", \"Coat\", \"Sandal\", \"Shirt\", \"Sneaker\", \"Bag\", \"Ankle boot\"]\n",
        "\n",
        "# Function to generate and display multiple predictions from an input image\n",
        "def generate_and_display_predictions(input_image_path, num_predictions=5):\n",
        "    # Load the input image\n",
        "    img = image.load_img(input_image_path, target_size=(28, 28), color_mode=\"grayscale\")\n",
        "    img_array = image.img_to_array(img)\n",
        "    img_array /= 255.0\n",
        "    img_array = np.expand_dims(img_array, axis=0)\n",
        "\n",
        "    # Use the model to predict the class of the input image\n",
        "    prediction = fashion_model.predict(img_array)\n",
        "    predicted_class = np.argmax(prediction)\n",
        "\n",
        "    # Generate multiple images of the predicted class\n",
        "    class_indices = np.where(np.argmax(fashion_model.predict(test_X), axis=1) == predicted_class)[0]\n",
        "    selected_indices = np.random.choice(class_indices, num_predictions, replace=False)\n",
        "\n",
        "    # Plot the input image and the generated examples\n",
        "    plt.figure(figsize=(15, 3))\n",
        "\n",
        "    # Plot the input image\n",
        "    plt.subplot(1, num_predictions + 1, 1)\n",
        "    plt.imshow(img_array[0, :, :, 0], cmap='gray')\n",
        "    plt.title(f\"Input: {class_labels[predicted_class]}\")\n",
        "    plt.axis('off')\n",
        "\n",
        "    # Plot the generated examples\n",
        "    for i, idx in enumerate(selected_indices):\n",
        "        plt.subplot(1, num_predictions + 1, i + 2)\n",
        "        plt.imshow(test_X[idx].reshape(28, 28), cmap='gray')\n",
        "        plt.title(class_labels[predicted_class])\n",
        "        plt.axis('off')\n",
        "\n",
        "    plt.show()\n",
        "\n",
        "# Example usage: replace 'your_input_image.png' with the path to your input image\n",
        "input_image_path = '/content/images (1).jpeg'\n",
        "generate_and_display_predictions(input_image_path, num_predictions=5)\n",
        "\n"
      ]
    },
    {
      "cell_type": "code",
      "source": [],
      "metadata": {
        "id": "o8dpoivdiBmW"
      },
      "execution_count": null,
      "outputs": []
    }
  ],
  "metadata": {
    "colab": {
      "provenance": [],
      "mount_file_id": "1bTEUYH_3YAHAbLUJ170qcPJ9HbNLn_Ay",
      "authorship_tag": "ABX9TyMl/tDPRfgvEyTqdc56sETI",
      "include_colab_link": true
    },
    "kernelspec": {
      "display_name": "Python 3",
      "name": "python3"
    },
    "language_info": {
      "name": "python"
    }
  },
  "nbformat": 4,
  "nbformat_minor": 0
}